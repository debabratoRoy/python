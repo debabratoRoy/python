{
 "cells": [
  {
   "cell_type": "code",
   "execution_count": 3,
   "metadata": {},
   "outputs": [],
   "source": [
    "import numpy as np\n",
    "import matplotlib.pyplot as plt\n",
    "from scipy.integrate import odeint\n",
    "import sympy as smp\n",
    "from matplotlib import animation\n",
    "from matplotlib.animation import PillowWriter"
   ]
  },
  {
   "attachments": {},
   "cell_type": "markdown",
   "metadata": {},
   "source": [
    "A diagram of the problem we're going to solve:\n",
    "- The entire system depends on only two angles: $\\theta_1$ and $\\theta_2$\n",
    "- We will use these variables as our free variables"
   ]
  },
  {
   "attachments": {},
   "cell_type": "markdown",
   "metadata": {},
   "source": [
    "Define all necessary symbols using sympy"
   ]
  },
  {
   "cell_type": "code",
   "execution_count": 62,
   "metadata": {},
   "outputs": [],
   "source": [
    "t, g, l1, l2, m1, m2, m3, k, L0 = smp.symbols('t, g, l_1, l_2, m_1, m_2, m_3, k, L_0')\n",
    "the1, the2 = smp.symbols(r'\\theta_1 ,\\theta_2', cls=smp.Function)"
   ]
  },
  {
   "attachments": {},
   "cell_type": "markdown",
   "metadata": {},
   "source": [
    "Define $\\theta(t)$ and $\\ddot{\\theta}(t)$"
   ]
  },
  {
   "cell_type": "code",
   "execution_count": 63,
   "metadata": {},
   "outputs": [],
   "source": [
    "the1 = the1(t)\n",
    "the2 = the2(t)\n",
    "the1_d = smp.diff(the1,t)\n",
    "the2_d = smp.diff(the2,t)\n",
    "the1_dd = smp.diff(the1_d,t)\n",
    "the2_dd = smp.diff(the2_d,t)"
   ]
  },
  {
   "attachments": {},
   "cell_type": "markdown",
   "metadata": {},
   "source": [
    "Define the $x$ and $y$ coordinates of all three masses"
   ]
  },
  {
   "cell_type": "code",
   "execution_count": 67,
   "metadata": {},
   "outputs": [],
   "source": [
    "x1 = l1*smp.cos(the1)\n",
    "y1 = -l1*smp.sin(the1)\n",
    "x2 = 2*x1\n",
    "y2 = 0\n",
    "x3 = x2 + l2*smp.sin(the2)\n",
    "y3 = -l2*smp.cos(the2)"
   ]
  },
  {
   "attachments": {},
   "cell_type": "markdown",
   "metadata": {},
   "source": [
    "Define both kinetic and potential energy\n",
    "\n",
    "- Kinetic energy $T$ comes from the motion of the three masses.\n",
    "- Potential energy $V$ comes from both the gravitational potential energy of the three masses $mgy$ and potential energy in the spring $\\frac{1}{2}kx^2$ where $x = x_2 - L_0$"
   ]
  },
  {
   "cell_type": "code",
   "execution_count": 68,
   "metadata": {},
   "outputs": [],
   "source": [
    "T = smp.Rational(1,2) * m1 * (smp.diff(x1,t)**2 + smp.diff(y1,t)**2) \\\n",
    "  + smp.Rational(1,2) * m2 * (smp.diff(x2,t)**2 + smp.diff(y2,t)**2) \\\n",
    "  + smp.Rational(1,2) * m3 * (smp.diff(x3,t)**2 + smp.diff(y3,t)**2)\n",
    "\n",
    "V = m1*g*y1 + m2*g*y2 + m3*g*y3 + smp.Rational(1,2) * k * (x2-L0)**2\n",
    "L = T-V"
   ]
  },
  {
   "cell_type": "code",
   "execution_count": 69,
   "metadata": {},
   "outputs": [
    {
     "data": {
      "text/latex": [
       "$\\displaystyle g l_{1} m_{1} \\sin{\\left(\\theta_{1}{\\left(t \\right)} \\right)} + g l_{2} m_{3} \\cos{\\left(\\theta_{2}{\\left(t \\right)} \\right)} - \\frac{k \\left(- L_{0} + 2 l_{1} \\cos{\\left(\\theta_{1}{\\left(t \\right)} \\right)}\\right)^{2}}{2} + 2 l_{1}^{2} m_{2} \\sin^{2}{\\left(\\theta_{1}{\\left(t \\right)} \\right)} \\left(\\frac{d}{d t} \\theta_{1}{\\left(t \\right)}\\right)^{2} + \\frac{m_{1} \\left(l_{1}^{2} \\sin^{2}{\\left(\\theta_{1}{\\left(t \\right)} \\right)} \\left(\\frac{d}{d t} \\theta_{1}{\\left(t \\right)}\\right)^{2} + l_{1}^{2} \\cos^{2}{\\left(\\theta_{1}{\\left(t \\right)} \\right)} \\left(\\frac{d}{d t} \\theta_{1}{\\left(t \\right)}\\right)^{2}\\right)}{2} + \\frac{m_{3} \\left(l_{2}^{2} \\sin^{2}{\\left(\\theta_{2}{\\left(t \\right)} \\right)} \\left(\\frac{d}{d t} \\theta_{2}{\\left(t \\right)}\\right)^{2} + \\left(- 2 l_{1} \\sin{\\left(\\theta_{1}{\\left(t \\right)} \\right)} \\frac{d}{d t} \\theta_{1}{\\left(t \\right)} + l_{2} \\cos{\\left(\\theta_{2}{\\left(t \\right)} \\right)} \\frac{d}{d t} \\theta_{2}{\\left(t \\right)}\\right)^{2}\\right)}{2}$"
      ],
      "text/plain": [
       "g*l_1*m_1*sin(\\theta_1(t)) + g*l_2*m_3*cos(\\theta_2(t)) - k*(-L_0 + 2*l_1*cos(\\theta_1(t)))**2/2 + 2*l_1**2*m_2*sin(\\theta_1(t))**2*Derivative(\\theta_1(t), t)**2 + m_1*(l_1**2*sin(\\theta_1(t))**2*Derivative(\\theta_1(t), t)**2 + l_1**2*cos(\\theta_1(t))**2*Derivative(\\theta_1(t), t)**2)/2 + m_3*(l_2**2*sin(\\theta_2(t))**2*Derivative(\\theta_2(t), t)**2 + (-2*l_1*sin(\\theta_1(t))*Derivative(\\theta_1(t), t) + l_2*cos(\\theta_2(t))*Derivative(\\theta_2(t), t))**2)/2"
      ]
     },
     "execution_count": 69,
     "metadata": {},
     "output_type": "execute_result"
    }
   ],
   "source": [
    "L"
   ]
  },
  {
   "cell_type": "code",
   "execution_count": null,
   "metadata": {},
   "outputs": [],
   "source": []
  }
 ],
 "metadata": {
  "kernelspec": {
   "display_name": "Python 3",
   "language": "python",
   "name": "python3"
  },
  "language_info": {
   "codemirror_mode": {
    "name": "ipython",
    "version": 3
   },
   "file_extension": ".py",
   "mimetype": "text/x-python",
   "name": "python",
   "nbconvert_exporter": "python",
   "pygments_lexer": "ipython3",
   "version": "3.11.1"
  },
  "orig_nbformat": 4,
  "vscode": {
   "interpreter": {
    "hash": "cfda8635c9eecc896b3c721121da8a50ab91e909b2ca0473fb43f2334248cebb"
   }
  }
 },
 "nbformat": 4,
 "nbformat_minor": 2
}
